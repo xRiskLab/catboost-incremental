{
 "cells": [
  {
   "cell_type": "markdown",
   "metadata": {},
   "source": [
    "# CatBoost incremental\n",
    "## 🪛 Tuning\n",
    "\n",
    "Author: https://github.com/deburky"
   ]
  },
  {
   "cell_type": "code",
   "execution_count": null,
   "metadata": {},
   "outputs": [],
   "source": [
    "!uv pip install -e ../."
   ]
  },
  {
   "cell_type": "code",
   "execution_count": null,
   "metadata": {},
   "outputs": [],
   "source": [
    "from pathlib import Path\n",
    "\n",
    "import pyarrow.dataset as ds\n",
    "from ray import tune\n",
    "\n",
    "from catboost_incremental import DataLoader, CatBoostTrainer, CatBoostTuner\n",
    "\n",
    "dataset_path = str(Path(\"../data/\").resolve()) + \"/\"\n",
    "\n",
    "dataset = ds.dataset(dataset_path)\n",
    "full_df = dataset.to_table().to_pandas()\n",
    "\n",
    "label = \"target\"\n",
    "\n",
    "# Setup DataLoader\n",
    "data_loader = DataLoader(\n",
    "    dataset_path,\n",
    "    chunk_size=10_000,\n",
    "    partition_id_col=\"partition_id\",\n",
    "    label_col=label,\n",
    ")\n",
    "\n",
    "# Create data_loader and trainer\n",
    "data_loader = DataLoader(\n",
    "    dataset_path, chunk_size=10_000, partition_id_col=\"partition_id\", label_col=label\n",
    ")\n",
    "trainer = CatBoostTrainer(data_loader=data_loader, label_col=label)\n",
    "\n",
    "# Generate train_data generator and test set\n",
    "train_data = trainer.data_loader.read_parquet()\n",
    "test_df = ds.dataset(dataset_path).to_table().to_pandas()\n",
    "\n",
    "# Initialize tuner\n",
    "tuner = CatBoostTuner(trainer=trainer, metric=\"accuracy\")\n",
    "\n",
    "result = tuner.tune(\n",
    "    param_space={\n",
    "        \"iterations\": tune.choice([50, 100]),\n",
    "        \"learning_rate\": tune.uniform(0.01, 0.3),\n",
    "        \"depth\": tune.choice([4, 6, 8]),\n",
    "        \"verbose\": 0,\n",
    "        \"allow_writing_files\": False,\n",
    "    },\n",
    "    num_samples=5,\n",
    ")\n",
    "\n",
    "print(f\"Best config: {result.config}\")"
   ]
  }
 ],
 "metadata": {
  "kernelspec": {
   "display_name": ".venv",
   "language": "python",
   "name": "python3"
  },
  "language_info": {
   "codemirror_mode": {
    "name": "ipython",
    "version": 3
   },
   "file_extension": ".py",
   "mimetype": "text/x-python",
   "name": "python",
   "nbconvert_exporter": "python",
   "pygments_lexer": "ipython3",
   "version": "3.9.2"
  }
 },
 "nbformat": 4,
 "nbformat_minor": 2
}
