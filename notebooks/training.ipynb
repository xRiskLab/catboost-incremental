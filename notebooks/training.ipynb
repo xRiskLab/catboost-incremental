{
 "cells": [
  {
   "cell_type": "markdown",
   "metadata": {},
   "source": [
    "# CatBoost incremental\n",
    "## 🧪 Training\n",
    "\n",
    "Author: https://github.com/deburky"
   ]
  },
  {
   "cell_type": "markdown",
   "metadata": {},
   "source": [
    "### Load dataset metadata\n",
    "- `ParquetDataset` encapsulates details of reading a complete Parquet dataset possibly consisting of multiple files and partitions in subdirectories.\n",
    "- PyArrow also provides `pyarrow.dataset` which is a higher-level API for working with datasets."
   ]
  },
  {
   "cell_type": "code",
   "execution_count": null,
   "metadata": {},
   "outputs": [],
   "source": [
    "!uv pip install -e ../."
   ]
  },
  {
   "cell_type": "markdown",
   "metadata": {},
   "source": [
    "### Run incremental training"
   ]
  },
  {
   "cell_type": "code",
   "execution_count": null,
   "metadata": {},
   "outputs": [],
   "source": [
    "import time\n",
    "\n",
    "import pyarrow.dataset as ds\n",
    "\n",
    "from catboost_incremental import DataLoader, CatBoostTrainer\n",
    "\n",
    "# Load full dataset\n",
    "dataset_path = \"../data/\"\n",
    "dataset = ds.dataset(dataset_path)\n",
    "full_df = dataset.to_table().to_pandas()\n",
    "label = \"target\"\n",
    "\n",
    "data_loader = DataLoader(\n",
    "    dataset_path, chunk_size=1000, partition_id_col=\"partition_id\", label_col=label\n",
    ")\n",
    "trainer = CatBoostTrainer(\n",
    "    data_loader=data_loader,\n",
    "    label_col=label,\n",
    "    model_config={\n",
    "        \"iterations\": 10,\n",
    "        \"learning_rate\": 0.01,\n",
    "        \"verbose\": 0,\n",
    "        \"allow_writing_files\": False,\n",
    "    },\n",
    "    # metric_fn=log_loss,\n",
    ")\n",
    "\n",
    "# Train model\n",
    "start_time = time.perf_counter()\n",
    "model = trainer.train()\n",
    "end_time = time.perf_counter()\n",
    "\n",
    "incremental_training_time = end_time - start_time\n",
    "print(f\"Incremental training time: {incremental_training_time:.2f} seconds\")\n",
    "\n",
    "# Evaluate\n",
    "score = trainer.evaluate(full_df)\n",
    "print(f\"Accuracy: {score:.4f}\")"
   ]
  },
  {
   "cell_type": "markdown",
   "metadata": {},
   "source": [
    "### Run standard training"
   ]
  },
  {
   "cell_type": "code",
   "execution_count": null,
   "metadata": {},
   "outputs": [],
   "source": [
    "import time\n",
    "\n",
    "import catboost as cb\n",
    "from sklearn.model_selection import train_test_split\n",
    "\n",
    "X_train, X_test, y_train, y_test = train_test_split(full_df.drop(columns=[label]), full_df[label])\n",
    "\n",
    "train_pool = cb.Pool(\n",
    "    data=X_train,\n",
    "    label=y_train,\n",
    ")\n",
    "test_pool = cb.Pool(\n",
    "    data=X_test,\n",
    "    label=y_test,\n",
    ")\n",
    "\n",
    "model = cb.CatBoostClassifier(\n",
    "    iterations=500,\n",
    "    learning_rate=0.1,\n",
    "    verbose=0,\n",
    "    allow_writing_files=False,\n",
    ")\n",
    "\n",
    "# Train model\n",
    "start_time = time.perf_counter()\n",
    "model.fit(\n",
    "    train_pool,\n",
    "    eval_set=test_pool,\n",
    "    verbose=0,\n",
    ")\n",
    "end_time = time.perf_counter()\n",
    "\n",
    "normal_training_time = end_time - start_time\n",
    "print(f\"Incremental training time: {normal_training_time:.2f} seconds\")\n",
    "\n",
    "# Evaluate\n",
    "score = model.score(test_pool)\n",
    "print(f\"Accuracy: {score:.4f}\")"
   ]
  }
 ],
 "metadata": {
  "kernelspec": {
   "display_name": ".venv",
   "language": "python",
   "name": "python3"
  },
  "language_info": {
   "codemirror_mode": {
    "name": "ipython",
    "version": 3
   },
   "file_extension": ".py",
   "mimetype": "text/x-python",
   "name": "python",
   "nbconvert_exporter": "python",
   "pygments_lexer": "ipython3",
   "version": "3.9.2"
  }
 },
 "nbformat": 4,
 "nbformat_minor": 2
}
